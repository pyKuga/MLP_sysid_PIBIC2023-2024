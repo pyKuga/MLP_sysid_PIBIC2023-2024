{
 "cells": [
  {
   "cell_type": "code",
   "execution_count": 2,
   "metadata": {},
   "outputs": [
    {
     "data": {
      "text/plain": [
       "n4sidPatternArg (generic function with 1 method)"
      ]
     },
     "metadata": {},
     "output_type": "display_data"
    }
   ],
   "source": [
    "using LinearAlgebra\n",
    "using ControlSystems\n",
    "using Plots\n",
    "using ControlSystemIdentification\n",
    "using Random\n",
    "using Statistics\n",
    "using DelimitedFiles\n",
    "using CUDA\n",
    "using Flux\n",
    "using Hyperopt\n",
    "using FluxArchitectures\n",
    "\n",
    "\n",
    "include(\"KugaPack.jl\")\n",
    "include(\"sysid.jl\")\n",
    "include(\"blockpack.jl\")\n",
    "include(\"analysis.jl\")"
   ]
  },
  {
   "cell_type": "code",
   "execution_count": 3,
   "metadata": {},
   "outputs": [
    {
     "data": {
      "text/plain": [
       "7001"
      ]
     },
     "metadata": {},
     "output_type": "display_data"
    }
   ],
   "source": [
    "#numerical conditions are set up\n",
    "dt = 1e-3;\n",
    "maxT = 7;\n",
    "ns = round(Int,maxT/dt)+1;\n",
    "t = 0:dt:maxT;\n",
    "\n",
    "ns"
   ]
  },
  {
   "cell_type": "code",
   "execution_count": 4,
   "metadata": {},
   "outputs": [],
   "source": [
    "x0 = [0; 0; 0; 0;];\n",
    "\n",
    "n_frac = round(Int,ns/4)\n",
    "\n",
    "w = 80\n",
    "U1 = chirp(w,0:dt:maxT/4-dt)\n",
    "U2 = PulseGen(n_frac+n_frac+1)\n",
    "U3 = rand(1,n_frac).-0.5;\n",
    "\n",
    "\n",
    "U = vec([U1; U2'; U3']);"
   ]
  },
  {
   "cell_type": "code",
   "execution_count": 5,
   "metadata": {},
   "outputs": [],
   "source": [
    "#using the given parameters, the system (discrete space state) is created \n",
    "Param = [0.77 0.59 2.1 1.2 9 200 200 200];\n",
    "sysP,sysD = F2DOF(dt,Param);\n",
    "\n",
    "Y,_,_= lsim(sysD,U',t,x0=x0); #time response\n",
    "magD,phaseD,w = bode(sysD); #frequency response"
   ]
  },
  {
   "cell_type": "code",
   "execution_count": 6,
   "metadata": {},
   "outputs": [],
   "source": [
    "#identification parameters\n",
    "na = 4;\n",
    "nb = 1;\n",
    "ny = 2;\n",
    "nu = 1;\n",
    "p = 25;"
   ]
  },
  {
   "cell_type": "code",
   "execution_count": 7,
   "metadata": {},
   "outputs": [
    {
     "data": {
      "text/plain": [
       "Chain(\n",
       "  Recur(\n",
       "    LSTMCell(9 => 9),                   \u001b[90m# 702 parameters\u001b[39m\n",
       "  ),\n",
       "  Recur(\n",
       "    LSTMCell(9 => 1),                   \u001b[90m# 46 parameters\u001b[39m\n",
       "  ),\n",
       "  Dense(1 => 25, tanh),                 \u001b[90m# 50 parameters\u001b[39m\n",
       "  Dense(25 => 2),                       \u001b[90m# 52 parameters\u001b[39m\n",
       ") \u001b[90m        # Total: 14 trainable arrays, \u001b[39m850 parameters,\n",
       "\u001b[90m          # plus 4 non-trainable, 20 parameters, summarysize \u001b[39m2.469 KiB."
      ]
     },
     "metadata": {},
     "output_type": "display_data"
    }
   ],
   "source": [
    "Data = DataNARX(DataNorm(Y),U', ny, nu, na, nb,ns)\n",
    "dataSize = ny*na+nb*nu;\n",
    "\n",
    "model = TrainModel(\n",
    "    NNARX_LSTM(dataSize,p,ny),\n",
    "    Data\n",
    "    )\n"
   ]
  },
  {
   "cell_type": "code",
   "execution_count": 10,
   "metadata": {},
   "outputs": [
    {
     "data": {
      "text/plain": [
       "1"
      ]
     },
     "metadata": {},
     "output_type": "display_data"
    }
   ],
   "source": [
    "model([U[1] ; zeros(ny*na)] |> gpu)\n",
    "\n",
    "Hn = zeros(na*ny+nb*nu,ns)\n",
    "\n"
   ]
  }
 ],
 "metadata": {
  "kernelspec": {
   "display_name": "Julia 1.9.3",
   "language": "julia",
   "name": "julia-1.9"
  },
  "language_info": {
   "file_extension": ".jl",
   "mimetype": "application/julia",
   "name": "julia",
   "version": "1.9.3"
  }
 },
 "nbformat": 4,
 "nbformat_minor": 2
}
