{
 "cells": [
  {
   "cell_type": "markdown",
   "metadata": {},
   "source": [
    "**School of Mechanical Engineering - State University of Campinas**\n",
    "Paulo Yoshio Kuga\n",
    "First Release: October 2023\n",
    "\n",
    "Present version: 20231221\n",
    "\n",
    "this is the main program to run neural network identification "
   ]
  },
  {
   "cell_type": "code",
   "execution_count": 10,
   "metadata": {},
   "outputs": [],
   "source": [
    "using LinearAlgebra\n",
    "using ControlSystems\n",
    "using Plots\n",
    "using ControlSystemIdentification\n",
    "using Random\n",
    "using Statistics\n",
    "using DelimitedFiles\n",
    "using CUDA\n",
    "using Flux\n",
    "using Hyperopt\n",
    "using FluxArchitectures\n",
    "\n",
    "\n",
    "include(\"KugaPack.jl\")\n",
    "include(\"sysid.jl\")\n",
    "include(\"blockpack.jl\")\n",
    "include(\"analysis.jl\")\n",
    "CUDA.allowscalar(true)"
   ]
  },
  {
   "cell_type": "code",
   "execution_count": 11,
   "metadata": {},
   "outputs": [
    {
     "data": {
      "text/plain": [
       "1001"
      ]
     },
     "metadata": {},
     "output_type": "display_data"
    }
   ],
   "source": [
    "#numerical conditions are set up\n",
    "dt = 5e-3;\n",
    "maxT = 5;\n",
    "ns = round(Int,maxT/dt)+1;\n",
    "t = 0:dt:maxT;\n",
    "\n",
    "ns"
   ]
  },
  {
   "cell_type": "code",
   "execution_count": 12,
   "metadata": {},
   "outputs": [],
   "source": [
    "#problem conditions are set up\n",
    "x0 = [0; 0; 0; 0;];\n",
    "\n",
    "n_frac = round(Int,ns/4)\n",
    "\n",
    "w = 80\n",
    "U1 = chirp(w,0:dt:maxT/4-dt)\n",
    "U2 = PulseGen(n_frac+n_frac+1)\n",
    "U3 = rand(1,n_frac).-0.5;\n",
    "\n",
    "\n",
    "U = vec([U1; U2'; U3']);"
   ]
  },
  {
   "cell_type": "code",
   "execution_count": 4,
   "metadata": {},
   "outputs": [],
   "source": [
    "png(\n",
    "    plot(\n",
    "    t, \n",
    "    U, \n",
    "    labels=\"Entrada\",\n",
    "    ylabel = \"Força (N)\", \n",
    "    xlabel = \"Tempo\",\n",
    "    title  = \"Esforço U aplicado\",\n",
    "),\"grafico_u\");"
   ]
  },
  {
   "cell_type": "code",
   "execution_count": 4,
   "metadata": {},
   "outputs": [],
   "source": [
    "#using the given parameters, the system (discrete space state) is created \n",
    "Param = [0.77 0.59 2.1 1.2 9 200 200 200];\n",
    "sysP,sysD = F2DOF(dt,Param);\n",
    "\n",
    "Y,_,_= lsim(sysD,U',t,x0=x0); #time response\n",
    "magD,phaseD,w = bode(sysD); #frequency response"
   ]
  },
  {
   "cell_type": "code",
   "execution_count": 6,
   "metadata": {},
   "outputs": [],
   "source": [
    "png(\n",
    "    plot(\n",
    "    t, \n",
    "    Y', \n",
    "    labels=[\"Massa 1\" \"Massa 2\"],\n",
    "    ylabel = \"Posição (m)\", \n",
    "    xlabel = \"Tempo\",\n",
    "    title  = \"Deslocamento das massas\",\n",
    "),\"grafico_Y_U\");"
   ]
  },
  {
   "cell_type": "code",
   "execution_count": 5,
   "metadata": {},
   "outputs": [],
   "source": [
    "#identification parameters\n",
    "na = 4;\n",
    "nb = 1;\n",
    "ny = 2;\n",
    "nu = 1;\n",
    "p = 25;"
   ]
  },
  {
   "cell_type": "code",
   "execution_count": 9,
   "metadata": {},
   "outputs": [
    {
     "data": {
      "text/plain": [
       "0.7992987195086019"
      ]
     },
     "metadata": {},
     "output_type": "display_data"
    }
   ],
   "source": [
    "Data = SimpleData(Y,U',ns)\n",
    "Matrix_1 = Testador(Data,nu,ny,30,30,1)\n",
    "\n",
    "\n",
    "writedlm( \"fuapenas.csv\",  Matrix_1, ';')\n",
    "\n",
    "png(\n",
    "    plot(\n",
    "    heatmap(Matrix_1), \n",
    "    ylabel = \"Largura da Rede\", \n",
    "    xlabel = \"Profundidade da Rede\",\n",
    "    title  = \"Erro na Identificação - Rede análoga ao sistema\",\n",
    "),\"rede_fuapenas\");\n",
    "\n",
    "minimum(Matrix_1) #0.7992987195086019"
   ]
  },
  {
   "cell_type": "code",
   "execution_count": 17,
   "metadata": {},
   "outputs": [
    {
     "data": {
      "text/plain": [
       "0.8363667320144382"
      ]
     },
     "metadata": {},
     "output_type": "display_data"
    }
   ],
   "source": [
    "Data = DataNARX(Y,U', ny, nu, na, nb,ns)\n",
    "Matrix_2 = Testador(Data,nu*nb+ny*na,ny,30,30,1)\n",
    "\n",
    "\n",
    "writedlm( \"NARX.csv\",  Matrix_2, ';')\n",
    "\n",
    "png(\n",
    "    plot(\n",
    "    heatmap(Matrix_2), \n",
    "    ylabel = \"Largura da Rede\", \n",
    "    xlabel = \"Profundidade da Rede\",\n",
    "    title  = \"Erro na Identificação - Rede análoga ao sistema\",\n",
    "),\"NARX\");\n",
    "\n",
    "minimum(Matrix_2) #0.8363667320144382"
   ]
  },
  {
   "cell_type": "code",
   "execution_count": 23,
   "metadata": {},
   "outputs": [],
   "source": [
    "detail = 5:30\n",
    "\n",
    "png(\n",
    "    plot(\n",
    "        heatmap(detail,detail,Matrix_1[detail,detail]), \n",
    "    ylabel = \"Largura da Rede\", \n",
    "    xlabel = \"Profundidade da Rede\",\n",
    "    title  = \"Erro na Identificação - Rede análoga ao sistema\",\n",
    "),\"detalhamento_redepadrao\");\n",
    "\n",
    "png(\n",
    "    plot(\n",
    "        heatmap(detail,detail,Matrix_2[detail,detail]), \n",
    "    ylabel = \"Largura da Rede\", \n",
    "    xlabel = \"Profundidade da Rede\",\n",
    "    title  = \"Erro na Identificação - Rede análoga ao sistema\",\n",
    "),\"detalhamento_NARX\");"
   ]
  },
  {
   "cell_type": "code",
   "execution_count": 35,
   "metadata": {},
   "outputs": [],
   "source": [
    "V = Int.([nu; 24*ones(6); ny])\n",
    "Yl = SimpleOpt(V,SimpleData(Y,U',ns),relu)\n",
    "png(\n",
    "    plot(\n",
    "    t, \n",
    "    [Y' Yl'], \n",
    "    labels=[\"Massa 1\" \"Massa 2\" \"Massa 1 - estimado\" \"Massa 2 - estimado\"],\n",
    "    ylabel = \"Posição (m)\", \n",
    "    xlabel = \"Tempo\",\n",
    "    title  = \"Deslocamento das massas\",\n",
    "),\"identificação_fu_best\");"
   ]
  },
  {
   "cell_type": "code",
   "execution_count": 9,
   "metadata": {},
   "outputs": [],
   "source": [
    "V = Int.([nu*nb+ny*na; 23*ones(7); ny])\n",
    "Yl = SimpleOpt(V,DataNARX(Y,U', ny, nu, na, nb,ns),relu)\n",
    "png(\n",
    "    plot(\n",
    "    t, \n",
    "    [Y' Yl'], \n",
    "    labels=[\"Massa 1\" \"Massa 2\" \"Massa 1 - estimado\" \"Massa 2 - estimado\"],\n",
    "    ylabel = \"Posição (m)\", \n",
    "    xlabel = \"Tempo\",\n",
    "    title  = \"Deslocamento das massas\",\n",
    "),\"identificação_NARX_best\");"
   ]
  }
 ],
 "metadata": {
  "kernelspec": {
   "display_name": "Julia 1.9.3",
   "language": "julia",
   "name": "julia-1.9"
  },
  "language_info": {
   "file_extension": ".jl",
   "mimetype": "application/julia",
   "name": "julia",
   "version": "1.9.3"
  }
 },
 "nbformat": 4,
 "nbformat_minor": 2
}
